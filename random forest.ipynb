{
 "cells": [
  {
   "cell_type": "code",
   "execution_count": 2,
   "id": "37d8112b",
   "metadata": {},
   "outputs": [],
   "source": [
    "\n",
    "import pandas as pd\n",
    "\n",
    "original_features = pd.read_csv('temps.csv')\n",
    "original_features = pd.get_dummies(original_features)\n",
    "\n"
   ]
  },
  {
   "cell_type": "code",
   "execution_count": 3,
   "id": "4f200b71",
   "metadata": {},
   "outputs": [
    {
     "name": "stdout",
     "output_type": "stream",
     "text": [
      "Average baseline error:  5.06 degrees.\n"
     ]
    }
   ],
   "source": [
    "import numpy as np\n",
    "original_labels = np.array(original_features['actual'])\n",
    "original_features= original_features.drop('actual', axis = 1)\n",
    "original_feature_list = list(original_features.columns)\n",
    "original_features = np.array(original_features)\n",
    "from sklearn.model_selection import train_test_split\n",
    "original_train_features, original_test_features, original_train_labels, original_test_labels = train_test_split(original_features, original_labels, test_size = 0.25, random_state = 42)\n",
    "baseline_preds = original_test_features[:, original_feature_list.index('average')]\n",
    "baseline_errors = abs(baseline_preds - original_test_labels)\n",
    "print('Average baseline error: ', round(np.mean(baseline_errors), 2), 'degrees.')\n"
   ]
  },
  {
   "cell_type": "code",
   "execution_count": 4,
   "id": "5b7a32a8",
   "metadata": {},
   "outputs": [
    {
     "name": "stdout",
     "output_type": "stream",
     "text": [
      "Average model error: 3.83 degrees.\n",
      "Improvement over baseline: 24.24 %.\n",
      "Accuracy: 93.99 %.\n"
     ]
    }
   ],
   "source": [
    "from sklearn.ensemble import RandomForestRegressor \n",
    "rf = RandomForestRegressor(n_estimators= 1000, random_state=42)\n",
    "rf.fit(original_train_features, original_train_labels);\n",
    "predictions = rf.predict(original_test_features)\n",
    "errors = abs(predictions - original_test_labels)\n",
    "print('Average model error:', round(np.mean(errors), 2), 'degrees.')\n",
    "improvement_baseline = 100 * abs(np.mean(errors) - np.mean(baseline_errors)) / np.mean(baseline_errors)\n",
    "print('Improvement over baseline:', round(improvement_baseline, 2), '%.')\n",
    "mape = 100 * (errors / original_test_labels)\n",
    "accuracy = 100 - np.mean(mape)\n",
    "print('Accuracy:', round(accuracy, 2), '%.')"
   ]
  },
  {
   "cell_type": "markdown",
   "id": "cf07ace3",
   "metadata": {},
   "source": []
  },
  {
   "cell_type": "raw",
   "id": "7fa3b90b",
   "metadata": {},
   "source": []
  }
 ],
 "metadata": {
  "kernelspec": {
   "display_name": "Python 3",
   "language": "python",
   "name": "python3"
  },
  "language_info": {
   "codemirror_mode": {
    "name": "ipython",
    "version": 3
   },
   "file_extension": ".py",
   "mimetype": "text/x-python",
   "name": "python",
   "nbconvert_exporter": "python",
   "pygments_lexer": "ipython3",
   "version": "3.8.8"
  }
 },
 "nbformat": 4,
 "nbformat_minor": 5
}
